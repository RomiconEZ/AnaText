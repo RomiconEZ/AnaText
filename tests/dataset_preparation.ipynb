{
 "cells": [
  {
   "cell_type": "code",
   "execution_count": 1,
   "id": "initial_id",
   "metadata": {
    "collapsed": true,
    "ExecuteTime": {
     "end_time": "2023-11-19T22:22:18.316818Z",
     "start_time": "2023-11-19T22:22:10.502234Z"
    }
   },
   "outputs": [],
   "source": [
    "import pandas as pd\n",
    "import numpy as np"
   ]
  },
  {
   "cell_type": "code",
   "execution_count": 2,
   "outputs": [],
   "source": [
    "data = pd.read_csv(\"data/raw/20_newsgroup.csv\")"
   ],
   "metadata": {
    "collapsed": false,
    "ExecuteTime": {
     "end_time": "2023-11-19T22:22:19.675176Z",
     "start_time": "2023-11-19T22:22:19.581272Z"
    }
   },
   "id": "dd882f729ff41db1"
  },
  {
   "cell_type": "code",
   "execution_count": 3,
   "outputs": [
    {
     "data": {
      "text/plain": "    Unnamed: 0                                               text  target  \\\n0            0  I was wondering if anyone out there could enli...       7   \n1           17  I recently posted an article asking what kind ...       7   \n2           29  \\nIt depends on your priorities.  A lot of peo...       7   \n3           56  an excellent automatic can be found in the sub...       7   \n4           64  : Ford and his automobile.  I need information...       7   \n..         ...                                                ...     ...   \n95        1687  \\nNo. reverse lights are to warn others that y...       7   \n96        1748  \\n\\n\\n\\n\\n\\t\\n\\tI'd hate to rehash an old thre...       7   \n97        1777  \\t\\t\\t\\t\\t\\t\\t^^^^\\n\\t\\t\\t\\t\\t\\tRears also ven...       7   \n98        1791  Is anyone reading this message involved with t...       7   \n99        1799  I'm about to buy a new car and finance some of...       7   \n\n        title                        date  \n0   rec.autos  2023-03-20 21:05:52.700727  \n1   rec.autos  2023-03-20 21:05:52.700727  \n2   rec.autos  2023-03-20 21:05:52.700727  \n3   rec.autos  2023-03-20 21:05:52.700727  \n4   rec.autos  2023-03-20 21:05:52.700727  \n..        ...                         ...  \n95  rec.autos  2023-03-20 21:05:52.700727  \n96  rec.autos  2023-03-20 21:05:52.700727  \n97  rec.autos  2023-03-20 21:05:52.700727  \n98  rec.autos  2023-03-20 21:05:52.700727  \n99  rec.autos  2023-03-20 21:05:52.700727  \n\n[100 rows x 5 columns]",
      "text/html": "<div>\n<style scoped>\n    .dataframe tbody tr th:only-of-type {\n        vertical-align: middle;\n    }\n\n    .dataframe tbody tr th {\n        vertical-align: top;\n    }\n\n    .dataframe thead th {\n        text-align: right;\n    }\n</style>\n<table border=\"1\" class=\"dataframe\">\n  <thead>\n    <tr style=\"text-align: right;\">\n      <th></th>\n      <th>Unnamed: 0</th>\n      <th>text</th>\n      <th>target</th>\n      <th>title</th>\n      <th>date</th>\n    </tr>\n  </thead>\n  <tbody>\n    <tr>\n      <th>0</th>\n      <td>0</td>\n      <td>I was wondering if anyone out there could enli...</td>\n      <td>7</td>\n      <td>rec.autos</td>\n      <td>2023-03-20 21:05:52.700727</td>\n    </tr>\n    <tr>\n      <th>1</th>\n      <td>17</td>\n      <td>I recently posted an article asking what kind ...</td>\n      <td>7</td>\n      <td>rec.autos</td>\n      <td>2023-03-20 21:05:52.700727</td>\n    </tr>\n    <tr>\n      <th>2</th>\n      <td>29</td>\n      <td>\\nIt depends on your priorities.  A lot of peo...</td>\n      <td>7</td>\n      <td>rec.autos</td>\n      <td>2023-03-20 21:05:52.700727</td>\n    </tr>\n    <tr>\n      <th>3</th>\n      <td>56</td>\n      <td>an excellent automatic can be found in the sub...</td>\n      <td>7</td>\n      <td>rec.autos</td>\n      <td>2023-03-20 21:05:52.700727</td>\n    </tr>\n    <tr>\n      <th>4</th>\n      <td>64</td>\n      <td>: Ford and his automobile.  I need information...</td>\n      <td>7</td>\n      <td>rec.autos</td>\n      <td>2023-03-20 21:05:52.700727</td>\n    </tr>\n    <tr>\n      <th>...</th>\n      <td>...</td>\n      <td>...</td>\n      <td>...</td>\n      <td>...</td>\n      <td>...</td>\n    </tr>\n    <tr>\n      <th>95</th>\n      <td>1687</td>\n      <td>\\nNo. reverse lights are to warn others that y...</td>\n      <td>7</td>\n      <td>rec.autos</td>\n      <td>2023-03-20 21:05:52.700727</td>\n    </tr>\n    <tr>\n      <th>96</th>\n      <td>1748</td>\n      <td>\\n\\n\\n\\n\\n\\t\\n\\tI'd hate to rehash an old thre...</td>\n      <td>7</td>\n      <td>rec.autos</td>\n      <td>2023-03-20 21:05:52.700727</td>\n    </tr>\n    <tr>\n      <th>97</th>\n      <td>1777</td>\n      <td>\\t\\t\\t\\t\\t\\t\\t^^^^\\n\\t\\t\\t\\t\\t\\tRears also ven...</td>\n      <td>7</td>\n      <td>rec.autos</td>\n      <td>2023-03-20 21:05:52.700727</td>\n    </tr>\n    <tr>\n      <th>98</th>\n      <td>1791</td>\n      <td>Is anyone reading this message involved with t...</td>\n      <td>7</td>\n      <td>rec.autos</td>\n      <td>2023-03-20 21:05:52.700727</td>\n    </tr>\n    <tr>\n      <th>99</th>\n      <td>1799</td>\n      <td>I'm about to buy a new car and finance some of...</td>\n      <td>7</td>\n      <td>rec.autos</td>\n      <td>2023-03-20 21:05:52.700727</td>\n    </tr>\n  </tbody>\n</table>\n<p>100 rows × 5 columns</p>\n</div>"
     },
     "execution_count": 3,
     "metadata": {},
     "output_type": "execute_result"
    }
   ],
   "source": [
    "data.head(100)"
   ],
   "metadata": {
    "collapsed": false,
    "ExecuteTime": {
     "end_time": "2023-11-19T22:22:20.519513Z",
     "start_time": "2023-11-19T22:22:20.503071Z"
    }
   },
   "id": "868e896852feefe6"
  },
  {
   "cell_type": "code",
   "execution_count": 4,
   "outputs": [],
   "source": [
    "df = data[[\"text\"]].iloc[0:50]"
   ],
   "metadata": {
    "collapsed": false,
    "ExecuteTime": {
     "end_time": "2023-11-19T22:22:21.198306Z",
     "start_time": "2023-11-19T22:22:21.191141Z"
    }
   },
   "id": "d3af8acf71539b42"
  },
  {
   "cell_type": "code",
   "execution_count": 5,
   "outputs": [
    {
     "name": "stdout",
     "output_type": "stream",
     "text": [
      "<class 'pandas.core.frame.DataFrame'>\n",
      "RangeIndex: 50 entries, 0 to 49\n",
      "Data columns (total 1 columns):\n",
      " #   Column  Non-Null Count  Dtype \n",
      "---  ------  --------------  ----- \n",
      " 0   text    46 non-null     object\n",
      "dtypes: object(1)\n",
      "memory usage: 532.0+ bytes\n"
     ]
    }
   ],
   "source": [
    "df.info()"
   ],
   "metadata": {
    "collapsed": false,
    "ExecuteTime": {
     "end_time": "2023-11-19T22:22:21.716955Z",
     "start_time": "2023-11-19T22:22:21.712863Z"
    }
   },
   "id": "fe15df1dba3b5f28"
  },
  {
   "cell_type": "code",
   "execution_count": 6,
   "outputs": [],
   "source": [
    "df.replace(\"\", np.nan, inplace=True)\n",
    "df.replace(\"\\n\", np.nan, inplace=True)\n",
    "df = df.dropna()"
   ],
   "metadata": {
    "collapsed": false,
    "ExecuteTime": {
     "end_time": "2023-11-19T22:22:22.155502Z",
     "start_time": "2023-11-19T22:22:22.151911Z"
    }
   },
   "id": "6920399a896436ed"
  },
  {
   "cell_type": "code",
   "execution_count": 7,
   "outputs": [
    {
     "name": "stdout",
     "output_type": "stream",
     "text": [
      "<class 'pandas.core.frame.DataFrame'>\n",
      "Index: 45 entries, 0 to 49\n",
      "Data columns (total 1 columns):\n",
      " #   Column  Non-Null Count  Dtype \n",
      "---  ------  --------------  ----- \n",
      " 0   text    45 non-null     object\n",
      "dtypes: object(1)\n",
      "memory usage: 720.0+ bytes\n"
     ]
    }
   ],
   "source": [
    "df.info()"
   ],
   "metadata": {
    "collapsed": false,
    "ExecuteTime": {
     "end_time": "2023-11-19T22:22:22.675518Z",
     "start_time": "2023-11-19T22:22:22.672351Z"
    }
   },
   "id": "4e136fb165da0a32"
  },
  {
   "cell_type": "code",
   "execution_count": 8,
   "outputs": [],
   "source": [
    "df = df.astype(str)"
   ],
   "metadata": {
    "collapsed": false,
    "ExecuteTime": {
     "end_time": "2023-11-19T22:22:23.040179Z",
     "start_time": "2023-11-19T22:22:23.036195Z"
    }
   },
   "id": "67c7d5c7a4c78f"
  },
  {
   "cell_type": "code",
   "execution_count": 9,
   "outputs": [
    {
     "data": {
      "text/plain": "1"
     },
     "execution_count": 9,
     "metadata": {},
     "output_type": "execute_result"
    }
   ],
   "source": [
    "df.shape[1]"
   ],
   "metadata": {
    "collapsed": false,
    "ExecuteTime": {
     "end_time": "2023-11-19T22:22:23.438622Z",
     "start_time": "2023-11-19T22:22:23.434359Z"
    }
   },
   "id": "d2d7d9d29e2adb78"
  },
  {
   "cell_type": "code",
   "execution_count": 10,
   "outputs": [],
   "source": [
    "df.to_csv(\"data/processed/20_newsgroup_text_only_50.csv\", index=False)"
   ],
   "metadata": {
    "collapsed": false,
    "ExecuteTime": {
     "end_time": "2023-11-19T22:22:26.150282Z",
     "start_time": "2023-11-19T22:22:26.143337Z"
    }
   },
   "id": "5b795966b2c3c7ba"
  },
  {
   "cell_type": "code",
   "execution_count": null,
   "outputs": [],
   "source": [],
   "metadata": {
    "collapsed": false
   },
   "id": "6f3a82caad401b06"
  }
 ],
 "metadata": {
  "kernelspec": {
   "display_name": "Python 3",
   "language": "python",
   "name": "python3"
  },
  "language_info": {
   "codemirror_mode": {
    "name": "ipython",
    "version": 2
   },
   "file_extension": ".py",
   "mimetype": "text/x-python",
   "name": "python",
   "nbconvert_exporter": "python",
   "pygments_lexer": "ipython2",
   "version": "2.7.6"
  }
 },
 "nbformat": 4,
 "nbformat_minor": 5
}
